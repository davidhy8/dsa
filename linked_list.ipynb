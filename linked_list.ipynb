{
 "cells": [
  {
   "cell_type": "markdown",
   "metadata": {},
   "source": [
    "# Linked list"
   ]
  },
  {
   "cell_type": "markdown",
   "metadata": {},
   "source": [
    "## Implement linked list node objects"
   ]
  },
  {
   "cell_type": "code",
   "execution_count": 2,
   "metadata": {},
   "outputs": [],
   "source": [
    "class Node:\n",
    "    def __init__(self, val=0, next=None):\n",
    "        self.val = val\n",
    "        self.next = next"
   ]
  },
  {
   "cell_type": "code",
   "execution_count": null,
   "metadata": {},
   "outputs": [],
   "source": [
    "# Helper function\n",
    "\n",
    "def view_list(self, head):\n",
    "    curr = head\n",
    "\n",
    "    while curr.next: \n",
    "        print(curr)\n",
    "        curr = curr.next"
   ]
  },
  {
   "cell_type": "markdown",
   "metadata": {},
   "source": [
    "## Insertions in the linked list"
   ]
  },
  {
   "cell_type": "code",
   "execution_count": 5,
   "metadata": {},
   "outputs": [],
   "source": [
    "# Inserting a node at the beginning of a linked list given the head\n",
    "\n",
    "def insert_at_beginning(self, head, val):\n",
    "    new_node = Node(val)\n",
    "\n",
    "    if head.next is not None:\n",
    "        new_node.next = head\n",
    "\n",
    "    return new_node"
   ]
  },
  {
   "cell_type": "code",
   "execution_count": null,
   "metadata": {},
   "outputs": [],
   "source": [
    "# Inserting a node at the end of a linked list given the head \n",
    "\n",
    "def insert_at_end(self, head, val):\n",
    "    new_node = Node(val)\n",
    "\n",
    "    if head is None:\n",
    "        return new_node\n",
    "\n",
    "    curr = head\n",
    "    while curr.next:\n",
    "        curr = curr.next\n",
    "\n",
    "    curr.next = new_node\n",
    "\n",
    "    return head"
   ]
  },
  {
   "cell_type": "code",
   "execution_count": null,
   "metadata": {},
   "outputs": [],
   "source": [
    "# Inserting a node at a specific position in the linked list. Return unmodified linked list if index unavailable\n",
    "def insert_at_position(self, head, val, position):\n",
    "    if position == 0:\n",
    "        return insert_at_beginning(self, head, val)\n",
    "    \n",
    "    new_node = Node(val)\n",
    "    pos = 0\n",
    "    \n",
    "    curr = head\n",
    "    while curr.next and pos+1 != position:\n",
    "        curr = curr.next\n",
    "        pos += 1\n",
    "    \n",
    "    if pos+1 == position:\n",
    "        if curr.next:\n",
    "            temp = curr.next\n",
    "            curr.next = new_node\n",
    "            new_node.next = temp\n",
    "        else:\n",
    "            curr.next = new_node\n",
    "    \n",
    "    else:\n",
    "        print(\"index does not exist\")\n",
    "\n",
    "    return head\n",
    "    \n",
    "\n",
    "    \n",
    "    "
   ]
  },
  {
   "cell_type": "markdown",
   "metadata": {},
   "source": [
    "## Deletions in the linked list\n",
    "\n",
    "Leetcode example: https://leetcode.com/problems/delete-node-in-a-linked-list/description/"
   ]
  },
  {
   "cell_type": "code",
   "execution_count": null,
   "metadata": {},
   "outputs": [],
   "source": []
  },
  {
   "cell_type": "markdown",
   "metadata": {},
   "source": [
    "## Update a node in the linked list"
   ]
  },
  {
   "cell_type": "code",
   "execution_count": null,
   "metadata": {},
   "outputs": [],
   "source": []
  },
  {
   "cell_type": "markdown",
   "metadata": {},
   "source": [
    "# Traversal over a linked list"
   ]
  }
 ],
 "metadata": {
  "kernelspec": {
   "display_name": "Python 3",
   "language": "python",
   "name": "python3"
  },
  "language_info": {
   "codemirror_mode": {
    "name": "ipython",
    "version": 3
   },
   "file_extension": ".py",
   "mimetype": "text/x-python",
   "name": "python",
   "nbconvert_exporter": "python",
   "pygments_lexer": "ipython3",
   "version": "3.9.7"
  }
 },
 "nbformat": 4,
 "nbformat_minor": 2
}
